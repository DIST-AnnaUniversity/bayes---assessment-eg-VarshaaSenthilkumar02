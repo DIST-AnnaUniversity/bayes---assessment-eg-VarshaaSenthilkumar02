{
  "nbformat": 4,
  "nbformat_minor": 0,
  "metadata": {
    "colab": {
      "provenance": []
    },
    "kernelspec": {
      "name": "python3",
      "display_name": "Python 3"
    },
    "language_info": {
      "name": "python"
    }
  },
  "cells": [
    {
      "cell_type": "markdown",
      "source": [
        "P(book|boy)"
      ],
      "metadata": {
        "id": "fZdYe82b205v"
      }
    },
    {
      "cell_type": "code",
      "source": [
        "boys_with_book = 5\n",
        "boys_n_book = 35\n",
        "girls_with_book = 20\n",
        "girls_n_book = 40"
      ],
      "metadata": {
        "id": "NX3rsNs90inX"
      },
      "execution_count": 6,
      "outputs": []
    },
    {
      "cell_type": "code",
      "source": [
        "p_boys = (boys_with_book+boys_n_book) / 100\n",
        "p_girls = (girls_with_book+girls_n_book) / 100\n",
        "p_books = (boys_with_book+girls_with_book) / 100\n",
        "p_n_books = (boys_n_book+girls_n_book) / 100"
      ],
      "metadata": {
        "id": "-mYTFAX90vAO"
      },
      "execution_count": 8,
      "outputs": []
    },
    {
      "cell_type": "code",
      "source": [
        "p_boy_given_book = boys_with_book/girls_n_book\n",
        "p_book_given_boy = (p_boy_given_book*p_books) / p_boys\n",
        "print(round(p_book_given_boy,2))"
      ],
      "metadata": {
        "colab": {
          "base_uri": "https://localhost:8080/"
        },
        "id": "wj3zRSRz1xqv",
        "outputId": "f134319a-0504-4e8d-daea-6d432e733e50"
      },
      "execution_count": 12,
      "outputs": [
        {
          "output_type": "stream",
          "name": "stdout",
          "text": [
            "0.08\n"
          ]
        }
      ]
    }
  ]
}